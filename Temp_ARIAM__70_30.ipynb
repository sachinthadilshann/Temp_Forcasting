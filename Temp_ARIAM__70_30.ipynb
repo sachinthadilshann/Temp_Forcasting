{
  "cells": [
    {
      "cell_type": "markdown",
      "metadata": {
        "id": "view-in-github",
        "colab_type": "text"
      },
      "source": [
        "<a href=\"https://colab.research.google.com/github/sachinthadilshann/Temp_Forcasting/blob/main/Temp_ARIAM__70_30.ipynb\" target=\"_parent\"><img src=\"https://colab.research.google.com/assets/colab-badge.svg\" alt=\"Open In Colab\"/></a>"
      ]
    },
    {
      "cell_type": "code",
      "source": [
        "from google.colab import drive\n",
        "drive.mount('/content/drive')"
      ],
      "metadata": {
        "colab": {
          "base_uri": "https://localhost:8080/",
          "height": 339
        },
        "id": "4bqo4bXhnTSQ",
        "outputId": "49cf5256-324f-4e2a-e8e5-44d3129552ad"
      },
      "id": "4bqo4bXhnTSQ",
      "execution_count": 1,
      "outputs": [
        {
          "output_type": "error",
          "ename": "MessageError",
          "evalue": "ignored",
          "traceback": [
            "\u001b[0;31m---------------------------------------------------------------------------\u001b[0m",
            "\u001b[0;31mMessageError\u001b[0m                              Traceback (most recent call last)",
            "\u001b[0;32m<ipython-input-1-d5df0069828e>\u001b[0m in \u001b[0;36m<cell line: 2>\u001b[0;34m()\u001b[0m\n\u001b[1;32m      1\u001b[0m \u001b[0;32mfrom\u001b[0m \u001b[0mgoogle\u001b[0m\u001b[0;34m.\u001b[0m\u001b[0mcolab\u001b[0m \u001b[0;32mimport\u001b[0m \u001b[0mdrive\u001b[0m\u001b[0;34m\u001b[0m\u001b[0;34m\u001b[0m\u001b[0m\n\u001b[0;32m----> 2\u001b[0;31m \u001b[0mdrive\u001b[0m\u001b[0;34m.\u001b[0m\u001b[0mmount\u001b[0m\u001b[0;34m(\u001b[0m\u001b[0;34m'/content/drive'\u001b[0m\u001b[0;34m)\u001b[0m\u001b[0;34m\u001b[0m\u001b[0;34m\u001b[0m\u001b[0m\n\u001b[0m",
            "\u001b[0;32m/usr/local/lib/python3.10/dist-packages/google/colab/drive.py\u001b[0m in \u001b[0;36mmount\u001b[0;34m(mountpoint, force_remount, timeout_ms, readonly)\u001b[0m\n\u001b[1;32m    101\u001b[0m \u001b[0;32mdef\u001b[0m \u001b[0mmount\u001b[0m\u001b[0;34m(\u001b[0m\u001b[0mmountpoint\u001b[0m\u001b[0;34m,\u001b[0m \u001b[0mforce_remount\u001b[0m\u001b[0;34m=\u001b[0m\u001b[0;32mFalse\u001b[0m\u001b[0;34m,\u001b[0m \u001b[0mtimeout_ms\u001b[0m\u001b[0;34m=\u001b[0m\u001b[0;36m120000\u001b[0m\u001b[0;34m,\u001b[0m \u001b[0mreadonly\u001b[0m\u001b[0;34m=\u001b[0m\u001b[0;32mFalse\u001b[0m\u001b[0;34m)\u001b[0m\u001b[0;34m:\u001b[0m\u001b[0;34m\u001b[0m\u001b[0;34m\u001b[0m\u001b[0m\n\u001b[1;32m    102\u001b[0m   \u001b[0;34m\"\"\"Mount your Google Drive at the specified mountpoint path.\"\"\"\u001b[0m\u001b[0;34m\u001b[0m\u001b[0;34m\u001b[0m\u001b[0m\n\u001b[0;32m--> 103\u001b[0;31m   return _mount(\n\u001b[0m\u001b[1;32m    104\u001b[0m       \u001b[0mmountpoint\u001b[0m\u001b[0;34m,\u001b[0m\u001b[0;34m\u001b[0m\u001b[0;34m\u001b[0m\u001b[0m\n\u001b[1;32m    105\u001b[0m       \u001b[0mforce_remount\u001b[0m\u001b[0;34m=\u001b[0m\u001b[0mforce_remount\u001b[0m\u001b[0;34m,\u001b[0m\u001b[0;34m\u001b[0m\u001b[0;34m\u001b[0m\u001b[0m\n",
            "\u001b[0;32m/usr/local/lib/python3.10/dist-packages/google/colab/drive.py\u001b[0m in \u001b[0;36m_mount\u001b[0;34m(mountpoint, force_remount, timeout_ms, ephemeral, readonly)\u001b[0m\n\u001b[1;32m    130\u001b[0m   )\n\u001b[1;32m    131\u001b[0m   \u001b[0;32mif\u001b[0m \u001b[0mephemeral\u001b[0m\u001b[0;34m:\u001b[0m\u001b[0;34m\u001b[0m\u001b[0;34m\u001b[0m\u001b[0m\n\u001b[0;32m--> 132\u001b[0;31m     _message.blocking_request(\n\u001b[0m\u001b[1;32m    133\u001b[0m         \u001b[0;34m'request_auth'\u001b[0m\u001b[0;34m,\u001b[0m \u001b[0mrequest\u001b[0m\u001b[0;34m=\u001b[0m\u001b[0;34m{\u001b[0m\u001b[0;34m'authType'\u001b[0m\u001b[0;34m:\u001b[0m \u001b[0;34m'dfs_ephemeral'\u001b[0m\u001b[0;34m}\u001b[0m\u001b[0;34m,\u001b[0m \u001b[0mtimeout_sec\u001b[0m\u001b[0;34m=\u001b[0m\u001b[0;32mNone\u001b[0m\u001b[0;34m\u001b[0m\u001b[0;34m\u001b[0m\u001b[0m\n\u001b[1;32m    134\u001b[0m     )\n",
            "\u001b[0;32m/usr/local/lib/python3.10/dist-packages/google/colab/_message.py\u001b[0m in \u001b[0;36mblocking_request\u001b[0;34m(request_type, request, timeout_sec, parent)\u001b[0m\n\u001b[1;32m    174\u001b[0m       \u001b[0mrequest_type\u001b[0m\u001b[0;34m,\u001b[0m \u001b[0mrequest\u001b[0m\u001b[0;34m,\u001b[0m \u001b[0mparent\u001b[0m\u001b[0;34m=\u001b[0m\u001b[0mparent\u001b[0m\u001b[0;34m,\u001b[0m \u001b[0mexpect_reply\u001b[0m\u001b[0;34m=\u001b[0m\u001b[0;32mTrue\u001b[0m\u001b[0;34m\u001b[0m\u001b[0;34m\u001b[0m\u001b[0m\n\u001b[1;32m    175\u001b[0m   )\n\u001b[0;32m--> 176\u001b[0;31m   \u001b[0;32mreturn\u001b[0m \u001b[0mread_reply_from_input\u001b[0m\u001b[0;34m(\u001b[0m\u001b[0mrequest_id\u001b[0m\u001b[0;34m,\u001b[0m \u001b[0mtimeout_sec\u001b[0m\u001b[0;34m)\u001b[0m\u001b[0;34m\u001b[0m\u001b[0;34m\u001b[0m\u001b[0m\n\u001b[0m",
            "\u001b[0;32m/usr/local/lib/python3.10/dist-packages/google/colab/_message.py\u001b[0m in \u001b[0;36mread_reply_from_input\u001b[0;34m(message_id, timeout_sec)\u001b[0m\n\u001b[1;32m    101\u001b[0m     ):\n\u001b[1;32m    102\u001b[0m       \u001b[0;32mif\u001b[0m \u001b[0;34m'error'\u001b[0m \u001b[0;32min\u001b[0m \u001b[0mreply\u001b[0m\u001b[0;34m:\u001b[0m\u001b[0;34m\u001b[0m\u001b[0;34m\u001b[0m\u001b[0m\n\u001b[0;32m--> 103\u001b[0;31m         \u001b[0;32mraise\u001b[0m \u001b[0mMessageError\u001b[0m\u001b[0;34m(\u001b[0m\u001b[0mreply\u001b[0m\u001b[0;34m[\u001b[0m\u001b[0;34m'error'\u001b[0m\u001b[0;34m]\u001b[0m\u001b[0;34m)\u001b[0m\u001b[0;34m\u001b[0m\u001b[0;34m\u001b[0m\u001b[0m\n\u001b[0m\u001b[1;32m    104\u001b[0m       \u001b[0;32mreturn\u001b[0m \u001b[0mreply\u001b[0m\u001b[0;34m.\u001b[0m\u001b[0mget\u001b[0m\u001b[0;34m(\u001b[0m\u001b[0;34m'data'\u001b[0m\u001b[0;34m,\u001b[0m \u001b[0;32mNone\u001b[0m\u001b[0;34m)\u001b[0m\u001b[0;34m\u001b[0m\u001b[0;34m\u001b[0m\u001b[0m\n\u001b[1;32m    105\u001b[0m \u001b[0;34m\u001b[0m\u001b[0m\n",
            "\u001b[0;31mMessageError\u001b[0m: Error: credential propagation was unsuccessful"
          ]
        }
      ]
    },
    {
      "cell_type": "code",
      "execution_count": null,
      "id": "5dd7509e",
      "metadata": {
        "id": "5dd7509e"
      },
      "outputs": [],
      "source": [
        "import pandas as pd\n",
        "import numpy as np\n",
        "import matplotlib.pyplot as plt\n",
        "import matplotlib.pyplot as plt"
      ]
    },
    {
      "cell_type": "code",
      "execution_count": null,
      "id": "3011400e",
      "metadata": {
        "id": "3011400e"
      },
      "outputs": [],
      "source": []
    },
    {
      "cell_type": "code",
      "execution_count": null,
      "id": "eeaf4356",
      "metadata": {
        "id": "eeaf4356"
      },
      "outputs": [],
      "source": [
        "import warnings\n",
        "warnings.filterwarnings(\"ignore\")"
      ]
    },
    {
      "cell_type": "code",
      "execution_count": null,
      "id": "067e071d",
      "metadata": {
        "id": "067e071d"
      },
      "outputs": [],
      "source": [
        "df = pd.read_csv(\"/content/drive/MyDrive/SLT/Se/temp.csv\", sep=';')"
      ]
    },
    {
      "cell_type": "code",
      "execution_count": null,
      "id": "b570fe7c",
      "metadata": {
        "id": "b570fe7c"
      },
      "outputs": [],
      "source": [
        "df.head()"
      ]
    },
    {
      "cell_type": "code",
      "execution_count": null,
      "id": "417e5d42",
      "metadata": {
        "id": "417e5d42"
      },
      "outputs": [],
      "source": [
        "df[['id', 'device_id', 'sensor_value', 'timestamp']] = df['id;\"device_id\";\"sensor_value\";\"timestamp\"'].str.split(';', expand=True)"
      ]
    },
    {
      "cell_type": "code",
      "execution_count": null,
      "id": "6b06b647",
      "metadata": {
        "id": "6b06b647"
      },
      "outputs": [],
      "source": [
        "df.head()"
      ]
    },
    {
      "cell_type": "code",
      "execution_count": null,
      "id": "9118e72a",
      "metadata": {
        "id": "9118e72a"
      },
      "outputs": [],
      "source": [
        "df['device_id'] = df['device_id'].str.strip('\"')\n",
        "df['sensor_value'] = df['sensor_value'].str.strip('\"')\n",
        "df['timestamp'] = df['timestamp'].str.strip('\"')"
      ]
    },
    {
      "cell_type": "code",
      "execution_count": null,
      "id": "faf9f1d2",
      "metadata": {
        "id": "faf9f1d2"
      },
      "outputs": [],
      "source": [
        "df.drop('id;\"device_id\";\"sensor_value\";\"timestamp\"', axis=1, inplace=True)\n"
      ]
    },
    {
      "cell_type": "code",
      "execution_count": null,
      "id": "9933ee3d",
      "metadata": {
        "id": "9933ee3d"
      },
      "outputs": [],
      "source": [
        "df.drop('id', axis=1, inplace=True)"
      ]
    },
    {
      "cell_type": "code",
      "execution_count": null,
      "id": "9013c855",
      "metadata": {
        "id": "9013c855"
      },
      "outputs": [],
      "source": [
        "df.head()"
      ]
    },
    {
      "cell_type": "code",
      "execution_count": null,
      "id": "dbcf29f3",
      "metadata": {
        "id": "dbcf29f3"
      },
      "outputs": [],
      "source": [
        "df.info()"
      ]
    },
    {
      "cell_type": "code",
      "execution_count": null,
      "id": "7459315a",
      "metadata": {
        "id": "7459315a"
      },
      "outputs": [],
      "source": [
        "df.head()"
      ]
    },
    {
      "cell_type": "code",
      "execution_count": null,
      "id": "84a00a8f",
      "metadata": {
        "id": "84a00a8f"
      },
      "outputs": [],
      "source": [
        "df['sensor_value'].astype(float)"
      ]
    },
    {
      "cell_type": "code",
      "execution_count": null,
      "id": "e597b159",
      "metadata": {
        "id": "e597b159"
      },
      "outputs": [],
      "source": [
        "df['timestamp'] = pd.to_datetime(df['timestamp'])"
      ]
    },
    {
      "cell_type": "code",
      "execution_count": null,
      "id": "46937213",
      "metadata": {
        "id": "46937213"
      },
      "outputs": [],
      "source": [
        "df.sort_values(by='timestamp', inplace=True)\n",
        "df.reset_index(drop=True, inplace=True)"
      ]
    },
    {
      "cell_type": "code",
      "execution_count": null,
      "id": "ffb3ca1a",
      "metadata": {
        "id": "ffb3ca1a"
      },
      "outputs": [],
      "source": [
        "df.info()"
      ]
    },
    {
      "cell_type": "code",
      "execution_count": null,
      "id": "14c854d9",
      "metadata": {
        "id": "14c854d9"
      },
      "outputs": [],
      "source": [
        "df['sensor_value'] = df['sensor_value'].astype(float)"
      ]
    },
    {
      "cell_type": "code",
      "execution_count": null,
      "id": "c8693fb4",
      "metadata": {
        "id": "c8693fb4"
      },
      "outputs": [],
      "source": [
        "df['timestamp'].value_counts()"
      ]
    },
    {
      "cell_type": "code",
      "execution_count": null,
      "id": "a0991c68",
      "metadata": {
        "id": "a0991c68"
      },
      "outputs": [],
      "source": [
        "df['device_id'] = df['device_id'].replace({\"Device0001a\": 1, \"Device0002a\": 0})\n"
      ]
    },
    {
      "cell_type": "code",
      "execution_count": null,
      "id": "4714a3a7",
      "metadata": {
        "id": "4714a3a7"
      },
      "outputs": [],
      "source": [
        "df['device_id'].value_counts()"
      ]
    },
    {
      "cell_type": "code",
      "execution_count": null,
      "id": "26f007a8",
      "metadata": {
        "id": "26f007a8"
      },
      "outputs": [],
      "source": [
        "df = df.drop(df[(df['device_id'] == 0)].index)"
      ]
    },
    {
      "cell_type": "code",
      "execution_count": null,
      "id": "e9779d92",
      "metadata": {
        "id": "e9779d92"
      },
      "outputs": [],
      "source": [
        "df.head(100)"
      ]
    },
    {
      "cell_type": "code",
      "execution_count": null,
      "id": "01944e04",
      "metadata": {
        "id": "01944e04"
      },
      "outputs": [],
      "source": [
        "df.head()"
      ]
    },
    {
      "cell_type": "code",
      "execution_count": null,
      "id": "d48877ab",
      "metadata": {
        "id": "d48877ab"
      },
      "outputs": [],
      "source": [
        "df.info()"
      ]
    },
    {
      "cell_type": "code",
      "execution_count": null,
      "id": "e8a38340",
      "metadata": {
        "id": "e8a38340"
      },
      "outputs": [],
      "source": [
        "df.head()"
      ]
    },
    {
      "cell_type": "code",
      "execution_count": null,
      "id": "ddf39879",
      "metadata": {
        "id": "ddf39879"
      },
      "outputs": [],
      "source": [
        "df.drop('device_id', axis=1, inplace=True)"
      ]
    },
    {
      "cell_type": "code",
      "execution_count": null,
      "id": "2a56e1b8",
      "metadata": {
        "id": "2a56e1b8"
      },
      "outputs": [],
      "source": [
        "df.head(300)"
      ]
    },
    {
      "cell_type": "code",
      "execution_count": null,
      "id": "32052811",
      "metadata": {
        "id": "32052811"
      },
      "outputs": [],
      "source": [
        "df.set_index('timestamp', inplace=True)"
      ]
    },
    {
      "cell_type": "code",
      "execution_count": null,
      "id": "3f17893f",
      "metadata": {
        "id": "3f17893f"
      },
      "outputs": [],
      "source": [
        "df.shape"
      ]
    },
    {
      "cell_type": "code",
      "source": [],
      "metadata": {
        "id": "tY9Suj-XaSkI"
      },
      "id": "tY9Suj-XaSkI",
      "execution_count": null,
      "outputs": []
    },
    {
      "cell_type": "code",
      "execution_count": null,
      "metadata": {
        "id": "ead5742d"
      },
      "outputs": [],
      "source": [
        "start_timestamp = '2023-07-12 08:40:00'\n",
        "end_timestamp = '2023-07-12 09:30:27'\n",
        "df = df.loc[start_timestamp:end_timestamp]\n",
        "\n",
        "\n",
        "plt.figure(figsize=(20, 8))\n",
        "plt.plot(df.index, df['sensor_value'])\n",
        "plt.xlabel('Timestamp')\n",
        "plt.ylabel('Sensor Value')\n",
        "plt.title('Sensor Value over Time')\n",
        "plt.xticks(rotation=45)\n",
        "plt.grid(True)\n",
        "plt.tight_layout()\n",
        "plt.show()"
      ],
      "id": "ead5742d"
    },
    {
      "cell_type": "code",
      "execution_count": null,
      "id": "002a30ab",
      "metadata": {
        "id": "002a30ab"
      },
      "outputs": [],
      "source": [
        "df.isnull().sum()"
      ]
    },
    {
      "cell_type": "code",
      "execution_count": null,
      "id": "285f4078",
      "metadata": {
        "id": "285f4078"
      },
      "outputs": [],
      "source": [
        "df.shape"
      ]
    },
    {
      "cell_type": "code",
      "execution_count": null,
      "id": "e6230589",
      "metadata": {
        "id": "e6230589"
      },
      "outputs": [],
      "source": [
        "#df = df.iloc[1000:]\n",
        "#df = df.iloc[:-1000]"
      ]
    },
    {
      "cell_type": "code",
      "execution_count": null,
      "id": "553c9a1a",
      "metadata": {
        "id": "553c9a1a"
      },
      "outputs": [],
      "source": []
    },
    {
      "cell_type": "code",
      "execution_count": null,
      "id": "509ab909",
      "metadata": {
        "id": "509ab909"
      },
      "outputs": [],
      "source": [
        "df.shape"
      ]
    },
    {
      "cell_type": "code",
      "execution_count": null,
      "id": "9bbf9791",
      "metadata": {
        "id": "9bbf9791"
      },
      "outputs": [],
      "source": [
        "df.isnull().sum()"
      ]
    },
    {
      "cell_type": "code",
      "execution_count": null,
      "id": "749bbc1f",
      "metadata": {
        "id": "749bbc1f"
      },
      "outputs": [],
      "source": [
        "df.head()"
      ]
    },
    {
      "cell_type": "code",
      "execution_count": null,
      "id": "2230a237",
      "metadata": {
        "id": "2230a237"
      },
      "outputs": [],
      "source": [
        "df.head(3000)"
      ]
    },
    {
      "cell_type": "code",
      "execution_count": null,
      "id": "65082e69",
      "metadata": {
        "id": "65082e69"
      },
      "outputs": [],
      "source": [
        "#df['timestamp'] = pd.to_datetime(df['timestamp'])"
      ]
    },
    {
      "cell_type": "code",
      "execution_count": null,
      "id": "0a741366",
      "metadata": {
        "id": "0a741366"
      },
      "outputs": [],
      "source": [
        "df.shape"
      ]
    },
    {
      "cell_type": "code",
      "execution_count": null,
      "id": "8781711e",
      "metadata": {
        "id": "8781711e"
      },
      "outputs": [],
      "source": []
    },
    {
      "cell_type": "code",
      "execution_count": null,
      "id": "26fecaa6",
      "metadata": {
        "id": "26fecaa6"
      },
      "outputs": [],
      "source": [
        "df.plot(figsize=(20, 8))"
      ]
    },
    {
      "cell_type": "code",
      "execution_count": null,
      "id": "b2b8a202",
      "metadata": {
        "id": "b2b8a202"
      },
      "outputs": [],
      "source": [
        "#df = df.resample('30S').mean()\n"
      ]
    },
    {
      "cell_type": "code",
      "execution_count": null,
      "id": "f8aeeed7",
      "metadata": {
        "id": "f8aeeed7"
      },
      "outputs": [],
      "source": [
        "#df['sensor_value'] = df['sensor_value'].fillna(0)\n"
      ]
    },
    {
      "cell_type": "code",
      "execution_count": null,
      "id": "07cba7e8",
      "metadata": {
        "id": "07cba7e8"
      },
      "outputs": [],
      "source": [
        "df.dropna(inplace=True)"
      ]
    },
    {
      "cell_type": "code",
      "execution_count": null,
      "id": "f3e7a4e6",
      "metadata": {
        "id": "f3e7a4e6"
      },
      "outputs": [],
      "source": [
        "df.plot(figsize=(30, 20))"
      ]
    },
    {
      "cell_type": "code",
      "execution_count": null,
      "id": "6faa78df",
      "metadata": {
        "id": "6faa78df"
      },
      "outputs": [],
      "source": [
        "df.isnull().sum()"
      ]
    },
    {
      "cell_type": "code",
      "execution_count": null,
      "id": "1be7a081",
      "metadata": {
        "id": "1be7a081"
      },
      "outputs": [],
      "source": [
        "\n",
        "\n",
        "from statsmodels.tsa.stattools import adfuller\n",
        "\n",
        "def adf_test(dataset):\n",
        "  dftest = adfuller(dataset, autolag = 'AIC')\n",
        "  print(\"1. ADF : \",dftest[0])\n",
        "  print(\"2. P-Value : \", dftest[1])\n",
        "  print(\"3. Num Of Lags : \", dftest[2])\n",
        "  print(\"4. Num Of Observations Used For ADF Regression and Critical Values Calculation :\", dftest[3])\n",
        "  print(\"5. Critical Values :\")\n",
        "  for key, val in dftest[4].items():\n",
        "      print(\"\\t\",key, \": \", val)\n",
        "\n"
      ]
    },
    {
      "cell_type": "code",
      "execution_count": null,
      "id": "0d1a4b3d",
      "metadata": {
        "id": "0d1a4b3d"
      },
      "outputs": [],
      "source": [
        "adf_test(df['sensor_value'])\n"
      ]
    },
    {
      "cell_type": "code",
      "source": [
        "!pip install pmdarima"
      ],
      "metadata": {
        "id": "HMOzKTBiEtdJ"
      },
      "id": "HMOzKTBiEtdJ",
      "execution_count": null,
      "outputs": []
    },
    {
      "cell_type": "code",
      "execution_count": null,
      "id": "3dfe62d8",
      "metadata": {
        "id": "3dfe62d8"
      },
      "outputs": [],
      "source": [
        "from pmdarima import auto_arima\n",
        "\n"
      ]
    },
    {
      "cell_type": "code",
      "execution_count": null,
      "id": "491d01e4",
      "metadata": {
        "id": "491d01e4"
      },
      "outputs": [],
      "source": [
        "stepwise_fit = auto_arima(df['sensor_value'],trace = True, suppress_warnings=True,stepwise = False,seasonal = False)\n",
        "stepwise_fit.summary()"
      ]
    },
    {
      "cell_type": "code",
      "execution_count": null,
      "id": "ce95a42d",
      "metadata": {
        "id": "ce95a42d"
      },
      "outputs": [],
      "source": [
        "from statsmodels.tsa.arima.model import ARIMA\n",
        "\n",
        "#model = ARIMA(df, order=(2, 1, 5))\n",
        "#model_fit = model.fit()\n",
        "\n",
        "# Print the model summary\n",
        "#print(model_fit.summary())\n"
      ]
    },
    {
      "cell_type": "code",
      "execution_count": null,
      "id": "755cb06c",
      "metadata": {
        "id": "755cb06c"
      },
      "outputs": [],
      "source": [
        "#forecast = model_fit.forecast(steps=50)\n",
        "#print(forecast)"
      ]
    },
    {
      "cell_type": "code",
      "execution_count": null,
      "id": "e17e3348",
      "metadata": {
        "id": "e17e3348"
      },
      "outputs": [],
      "source": [
        "from sklearn.metrics import mean_squared_error\n",
        "from math import sqrt"
      ]
    },
    {
      "cell_type": "code",
      "source": [
        "import pandas as pd\n",
        "from statsmodels.tsa.arima.model import ARIMA\n",
        "\n",
        "\n",
        "# Extract the data values\n",
        "X = df['sensor_value'].values\n",
        "\n",
        "# Split the data into training and testing sets (80% training, 20% testing)\n",
        "size = int(len(X) * 0.7)\n",
        "train, test = X[:size], X[size:]\n",
        "\n",
        "# Initialize a list to store the training data\n",
        "history = [x for x in train]\n",
        "\n",
        "# Initialize a list to store the predicted values\n",
        "predictions = []\n",
        "\n",
        "# Loop through the testing set to make predictions\n",
        "for t in range(len(test)):\n",
        "    model = ARIMA(history, order=(3, 1, 1))\n",
        "    model_fit = model.fit()\n",
        "    output = model_fit.forecast()\n",
        "    yhat = output[0]\n",
        "    predictions.append(yhat)\n",
        "    obs = test[t]\n",
        "    history.append(obs)\n",
        "    print(f'Predicted: {yhat:.2f}, Expected: {obs:.2f}')\n",
        "\n",
        "# Create a DataFrame for the predicted values with timestamps\n",
        "\n"
      ],
      "metadata": {
        "id": "p-BEwb_aycab"
      },
      "id": "p-BEwb_aycab",
      "execution_count": null,
      "outputs": []
    },
    {
      "cell_type": "code",
      "source": [
        "pred_df = pd.DataFrame(predictions, index=df.index[size:size+len(test)], columns=['predicted_sensor_value'])"
      ],
      "metadata": {
        "id": "ABe1ZqJ8z9f-"
      },
      "id": "ABe1ZqJ8z9f-",
      "execution_count": null,
      "outputs": []
    },
    {
      "cell_type": "code",
      "source": [
        "pred_df"
      ],
      "metadata": {
        "id": "i8oui89FFYXI"
      },
      "id": "i8oui89FFYXI",
      "execution_count": null,
      "outputs": []
    },
    {
      "cell_type": "code",
      "source": [],
      "metadata": {
        "id": "9nmaFnOPA7jk"
      },
      "id": "9nmaFnOPA7jk",
      "execution_count": null,
      "outputs": []
    },
    {
      "cell_type": "code",
      "source": [],
      "metadata": {
        "id": "fMu2OZBh9VkX"
      },
      "id": "fMu2OZBh9VkX",
      "execution_count": null,
      "outputs": []
    },
    {
      "cell_type": "code",
      "source": [],
      "metadata": {
        "id": "hQfhOe5jz9Jw"
      },
      "id": "hQfhOe5jz9Jw",
      "execution_count": null,
      "outputs": []
    },
    {
      "cell_type": "code",
      "execution_count": null,
      "metadata": {
        "id": "sIzxf_9B0CmN"
      },
      "outputs": [],
      "source": [
        "plt.figure(figsize=(20, 8))\n",
        "plt.plot(test, color='blue', label='Actual')\n",
        "plt.plot(predictions, color='red', label='Predicted')\n",
        "plt.xlabel('Timestamp')\n",
        "plt.ylabel('Sensor Value')\n",
        "plt.xticks(rotation=45)\n",
        "plt.grid(True)\n",
        "plt.legend()\n",
        "plt.tight_layout()\n",
        "plt.show()"
      ],
      "id": "sIzxf_9B0CmN"
    },
    {
      "cell_type": "code",
      "execution_count": null,
      "id": "b993f2a7",
      "metadata": {
        "id": "b993f2a7"
      },
      "outputs": [],
      "source": [
        "rmse = sqrt(mean_squared_error(test, predictions))\n",
        "print('Test RMSE: %.3f' % rmse)\n"
      ]
    }
  ],
  "metadata": {
    "kernelspec": {
      "display_name": "Python 3 (ipykernel)",
      "language": "python",
      "name": "python3"
    },
    "language_info": {
      "codemirror_mode": {
        "name": "ipython",
        "version": 3
      },
      "file_extension": ".py",
      "mimetype": "text/x-python",
      "name": "python",
      "nbconvert_exporter": "python",
      "pygments_lexer": "ipython3",
      "version": "3.9.13"
    },
    "colab": {
      "provenance": [],
      "include_colab_link": true
    }
  },
  "nbformat": 4,
  "nbformat_minor": 5
}